{
 "cells": [
  {
   "cell_type": "code",
   "execution_count": 1,
   "id": "8a139b67",
   "metadata": {},
   "outputs": [],
   "source": [
    "import cdsapi"
   ]
  },
  {
   "cell_type": "code",
   "execution_count": 2,
   "id": "a77bae4e",
   "metadata": {},
   "outputs": [],
   "source": [
    "c = cdsapi.Client()"
   ]
  },
  {
   "cell_type": "code",
   "execution_count": 3,
   "id": "b12fef62",
   "metadata": {},
   "outputs": [],
   "source": [
    "# for year in range(2016, 2018):\n",
    "#     for quarter in range(3, 5):\n",
    "#         print(\"year \" + str(year))\n",
    "#         start_month = (quarter - 1) * 3 + 1\n",
    "#         end_month = quarter * 3\n",
    "#         print(\"start month \" + str(start_month))\n",
    "#         print(\"end month \" + str(end_month))\n",
    "        \n",
    "#         quarter_months = [str(i) for i in range(start_month, end_month + 1)]\n",
    "#         print(quarter_months)\n",
    "        \n",
    "#         path = \"ERA5_land_\" + str(year) + \"_\" + \"Q\" + str(quarter) + \".nc\"\n",
    "#         print(path)"
   ]
  },
  {
   "cell_type": "code",
   "execution_count": 4,
   "id": "8712c5af",
   "metadata": {
    "scrolled": true
   },
   "outputs": [
    {
     "name": "stdout",
     "output_type": "stream",
     "text": [
      "year 2020 for months ['1', '2', '3']\n"
     ]
    },
    {
     "name": "stderr",
     "output_type": "stream",
     "text": [
      "2024-05-13 11:08:32,692 INFO Welcome to the CDS\n",
      "2024-05-13 11:08:32,695 INFO Sending request to https://cds.climate.copernicus.eu/api/v2/resources/reanalysis-era5-land\n",
      "2024-05-13 11:08:33,183 INFO Request is queued\n",
      "2024-05-13 11:08:34,687 INFO Request is running\n",
      "2024-05-13 11:14:55,297 INFO Request is completed\n",
      "2024-05-13 11:14:55,307 INFO Downloading https://download-0013-clone.copernicus-climate.eu/cache-compute-0013/cache/data1/adaptor.mars.internal-1715623949.1825175-28430-18-3aafc5bf-4d66-476a-a7e1-fe2b9d394a8d.nc to ERA5_land_2020_Q1.nc (689.8M)\n",
      "2024-05-13 11:17:04,556 INFO Download rate 5.3M/s                                   \n",
      "2024-05-13 11:17:05,592 INFO Welcome to the CDS\n",
      "2024-05-13 11:17:05,594 INFO Sending request to https://cds.climate.copernicus.eu/api/v2/resources/reanalysis-era5-land\n"
     ]
    },
    {
     "name": "stdout",
     "output_type": "stream",
     "text": [
      "year 2020 for months ['4', '5', '6']\n"
     ]
    },
    {
     "name": "stderr",
     "output_type": "stream",
     "text": [
      "2024-05-13 11:17:05,819 INFO Request is queued\n",
      "2024-05-13 11:17:07,029 INFO Request is running\n",
      "2024-05-13 11:23:27,340 INFO Request is completed\n",
      "2024-05-13 11:23:27,347 INFO Downloading https://download-0019.copernicus-climate.eu/cache-compute-0019/cache/data8/adaptor.mars.internal-1715624466.0597484-26513-17-b2fe5c18-5502-40e9-93a9-adfa9b00dde8.nc to ERA5_land_2020_Q2.nc (689.8M)\n",
      "2024-05-13 11:30:18,594 INFO Download rate 1.7M/s                                   \n",
      "2024-05-13 11:30:19,631 INFO Welcome to the CDS\n",
      "2024-05-13 11:30:19,634 INFO Sending request to https://cds.climate.copernicus.eu/api/v2/resources/reanalysis-era5-land\n"
     ]
    },
    {
     "name": "stdout",
     "output_type": "stream",
     "text": [
      "year 2020 for months ['7', '8', '9']\n"
     ]
    },
    {
     "name": "stderr",
     "output_type": "stream",
     "text": [
      "2024-05-13 11:30:19,871 INFO Request is queued\n",
      "2024-05-13 11:30:21,074 INFO Request is running\n",
      "2024-05-13 11:34:40,388 INFO Request is completed\n",
      "2024-05-13 11:34:40,392 INFO Downloading https://download-0011-clone.copernicus-climate.eu/cache-compute-0011/cache/data5/adaptor.mars.internal-1715625249.4880917-10496-7-8aa90ef0-4f35-4101-bcd4-23aba742cfec.nc to ERA5_land_2020_Q3.nc (697.3M)\n",
      "2024-05-13 11:50:09,747 INFO Download rate 768.4K/s                                 \n",
      "2024-05-13 11:50:10,803 INFO Welcome to the CDS\n"
     ]
    },
    {
     "name": "stdout",
     "output_type": "stream",
     "text": [
      "year 2020 for months ['10', '11', '12']\n"
     ]
    },
    {
     "name": "stderr",
     "output_type": "stream",
     "text": [
      "2024-05-13 11:50:10,814 INFO Sending request to https://cds.climate.copernicus.eu/api/v2/resources/reanalysis-era5-land\n",
      "2024-05-13 11:50:11,058 INFO Request is queued\n",
      "2024-05-13 11:50:12,274 INFO Request is running\n",
      "2024-05-13 11:54:31,767 INFO Request is completed\n",
      "2024-05-13 11:54:31,774 INFO Downloading https://download-0004-clone.copernicus-climate.eu/cache-compute-0004/cache/data8/adaptor.mars.internal-1715626432.4138725-7320-20-99d5018b-ab37-46ad-964b-7cc93424ff8d.nc to ERA5_land_2020_Q4.nc (697.3M)\n",
      "2024-05-13 12:03:59,465 INFO Download rate 1.2M/s                                   \n"
     ]
    }
   ],
   "source": [
    "# nested loop script\n",
    "for year in range(2020, 2021): # input the years you want to impute, dates are inclusive/exclusive\n",
    "    for quarter in range(1, 5):\n",
    "        start_month = (quarter - 1) * 3 + 1 # downloads era5land data by quarter, so 3 months at a time\n",
    "        end_month = quarter * 3\n",
    "        quarter_months = [str(i) for i in range(start_month, end_month + 1)]\n",
    "        print(\"year \" + str(year) + \" for months \" + str(quarter_months))\n",
    "        path = \"ERA5_land_\" + str(year) + \"_\" + \"Q\" + str(quarter) + \".nc\"\n",
    "        \n",
    "        c.retrieve(\n",
    "        'reanalysis-era5-land',\n",
    "        {\n",
    "        'variable': [\n",
    "            '2m_temperature', \n",
    "        ],\n",
    "        'year': year,\n",
    "        'month': quarter_months,\n",
    "        'day': [\n",
    "            '01', '02', '03',\n",
    "            '04', '05', '06',\n",
    "            '07', '08', '09',\n",
    "            '10', '11', '12',\n",
    "            '13', '14', '15',\n",
    "            '16', '17', '18',\n",
    "            '19', '20', '21',\n",
    "            '22', '23', '24',\n",
    "            '25', '26', '27',\n",
    "            '28', '29', '30',\n",
    "            '31',\n",
    "        ],\n",
    "        'time': [\n",
    "            '00:00', '01:00', '02:00',\n",
    "            '03:00', '04:00', '05:00',\n",
    "            '06:00', '07:00', '08:00',\n",
    "            '09:00', '10:00', '11:00',\n",
    "            '12:00', '13:00', '14:00',\n",
    "            '15:00', '16:00', '17:00',\n",
    "            '18:00', '19:00', '20:00',\n",
    "            '21:00', '22:00', '23:00',\n",
    "        ],\n",
    "        'area': [\n",
    "            52, -126, 25,\n",
    "            -65,\n",
    "        ],\n",
    "        'format': 'netcdf',\n",
    "        },\n",
    "        path)"
   ]
  },
  {
   "cell_type": "code",
   "execution_count": 5,
   "id": "ae8343a1",
   "metadata": {},
   "outputs": [
    {
     "data": {
      "text/plain": [
       "'/Users/brianxi/Documents/Salurbal'"
      ]
     },
     "execution_count": 5,
     "metadata": {},
     "output_type": "execute_result"
    }
   ],
   "source": [
    "pwd"
   ]
  },
  {
   "cell_type": "code",
   "execution_count": null,
   "id": "7541e3cf",
   "metadata": {},
   "outputs": [],
   "source": []
  }
 ],
 "metadata": {
  "kernelspec": {
   "display_name": "Python [conda env:salurbal] *",
   "language": "python",
   "name": "conda-env-salurbal-py"
  },
  "language_info": {
   "codemirror_mode": {
    "name": "ipython",
    "version": 3
   },
   "file_extension": ".py",
   "mimetype": "text/x-python",
   "name": "python",
   "nbconvert_exporter": "python",
   "pygments_lexer": "ipython3",
   "version": "3.9.18"
  }
 },
 "nbformat": 4,
 "nbformat_minor": 5
}

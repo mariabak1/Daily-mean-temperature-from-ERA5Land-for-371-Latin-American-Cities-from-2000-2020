{
 "cells": [
  {
   "cell_type": "code",
   "execution_count": 2,
   "id": "a3e1ea39",
   "metadata": {},
   "outputs": [],
   "source": [
    "import rasterio\n",
    "from rasterio.enums import Resampling\n",
    "from osgeo import gdal\n",
    "from osgeo import osr\n",
    "import numpy as np\n",
    "import numpy.ma as ma\n",
    "import pandas as pd\n",
    "from scipy.ndimage import uniform_filter\n",
    "from sklearn.ensemble import RandomForestRegressor\n",
    "from scipy.interpolate import griddata\n",
    "from pykrige.rk import Krige\n",
    "#from pykrige.compat import GridSearchCV\n",
    "from pykrige.ok import OrdinaryKriging\n",
    "from sklearn.model_selection import cross_val_score, GridSearchCV\n",
    "import geopandas as gpd\n",
    "from shapely.geometry import mapping\n",
    "from rasterio.mask import mask as MASK\n",
    "import glob\n",
    "import time\n",
    "from netCDF4 import Dataset\n",
    "from numpy import dtype\n",
    "from datetime import date, timedelta\n",
    "import random\n",
    "import multiprocessing as mp\n",
    "from scipy import stats"
   ]
  },
  {
   "cell_type": "code",
   "execution_count": 32,
   "id": "9f58c446",
   "metadata": {},
   "outputs": [
    {
     "name": "stdout",
     "output_type": "stream",
     "text": [
      "/Users/brianxi/Documents/Salurbal/pct_imputed/pct_imputed_L1UX.csv\n"
     ]
    }
   ],
   "source": [
    "# In[5]:\n",
    "\n",
    "unit = 'UX' # choose AD, UX, or L2\n",
    "era5_land_ncs = glob.glob(r'/Users/brianxi/Documents/Salurbal/imputation/Results_v2/2019_Q1.nc') # can run it only on one quarter - let's try 2019 bc of the warnings\n",
    "masksfile = glob.glob(r'/Users/brianxi/Documents/Salurbal/irene_ft_raster/%s/*_area_weight.tif'%unit) #change here  # choose between AD UX L2\n",
    "miss_pix = gdal.Open(r'/Users/brianxi/Documents/Salurbal/imputation/ERA5land_mask.tif').ReadAsArray()\n",
    "master_df = pd.DataFrame()\n",
    "i=0\n",
    "# read in worldpop raster file,, specifiy the exact location where you have this stored\n",
    "worldpop = gdal.Open(r'/Users/brianxi/Documents/Salurbal/worldpoppers_bueno_convec.tif').ReadAsArray()\n",
    "worldpop[worldpop < 0] = 0 # set no data area with 0 weight\n",
    "\n",
    "# open the GUF urban footprint file, sepcify the exact location where you have this file stored\n",
    "guf = gdal.Open(r'/Users/brianxi/Documents/Salurbal/guf_panperu_vectorized_complete.tif').ReadAsArray()\n",
    "guf[guf < 0] = 0 # set no data area with 0 weight\n",
    "ans = pd.DataFrame()\n",
    "for maskfile in masksfile:\n",
    "    SALID = maskfile.split('\\\\')[-1].split('_')[0]\n",
    "    mask = gdal.Open(maskfile).ReadAsArray()\n",
    "\n",
    "    # get population or GUF weight\n",
    "    if SALID.startswith('105') or SALID.startswith('206'):  # decide if the area unit is in Peru or Panama\n",
    "        guf_wp = guf  # if yes, use GUF as the \"population\" weight\n",
    "    else:\n",
    "        guf_wp = worldpop  # otherwise, use world pop as the weight\n",
    "    mask1d = mask[mask>0]\n",
    "    missing1d = miss_pix[mask>0]\n",
    "    guf_wp1d = guf_wp[mask>0]*mask1d\n",
    "    guf_wp1d = guf_wp1d*mask1d\n",
    "    total_area = np.sum(mask1d)\n",
    "    total_guf_wp1d = np.sum(guf_wp1d)\n",
    "    if unit in ['AD','UX']:\n",
    "        ans.loc[i,'SALID1'] = SALID # change to SALID2 if L2\n",
    "    else:\n",
    "        ans.loc[i, 'SALID2'] = SALID  # change to SALID2 if L2\n",
    "    ans.loc[i,'%stemp_x_pct_not_imputed'%unit] = sum(mask1d[missing1d == 0])/total_area*100\n",
    "    ans.loc[i,'%stemp_x_pct_imputed'%unit] = sum(mask1d[missing1d == 1])/total_area*100\n",
    "    ans.loc[i, '%stemp_pw_pct_not_imputed'%unit] = sum(guf_wp1d[missing1d == 0]) / total_guf_wp1d*100\n",
    "    ans.loc[i, '%stemp_pw_pct_imputed'%unit] = sum(guf_wp1d[missing1d == 1]) / total_guf_wp1d*100\n",
    "    i=i+1\n",
    "if unit in ['AD','UX']:\n",
    "    out_name = r'/Users/brianxi/Documents/Salurbal/pct_imputed/pct_imputed_L1%s.csv'%unit\n",
    "else:\n",
    "    out_name = r'/Users/brianxi/Documents/Salurbal/pct_imputed/pct_imputed_%s.csv'%unit\n",
    "\n",
    "print(out_name)\n",
    "ans.to_csv(out_name) # change the unit here\n",
    "\n",
    "\n"
   ]
  },
  {
   "cell_type": "code",
   "execution_count": null,
   "id": "35d5e372",
   "metadata": {},
   "outputs": [],
   "source": []
  }
 ],
 "metadata": {
  "kernelspec": {
   "display_name": "Python [conda env:salurbal] *",
   "language": "python",
   "name": "conda-env-salurbal-py"
  },
  "language_info": {
   "codemirror_mode": {
    "name": "ipython",
    "version": 3
   },
   "file_extension": ".py",
   "mimetype": "text/x-python",
   "name": "python",
   "nbconvert_exporter": "python",
   "pygments_lexer": "ipython3",
   "version": "3.9.18"
  }
 },
 "nbformat": 4,
 "nbformat_minor": 5
}
